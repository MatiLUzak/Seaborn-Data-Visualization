{
 "cells": [
  {
   "cell_type": "code",
   "execution_count": 1,
   "id": "24806a50-351e-4c02-9db2-281509046a2d",
   "metadata": {
    "ExecuteTime": {
     "end_time": "2024-10-29T19:19:47.478383Z",
     "start_time": "2024-10-29T19:19:47.476214Z"
    }
   },
   "outputs": [],
   "source": [
    "import pandas as pd\n",
    "import matplotlib.pyplot as plt\n",
    "import seaborn as sns\n",
    "from itertools import combinations"
   ]
  },
  {
   "metadata": {},
   "cell_type": "code",
   "outputs": [],
   "execution_count": null,
   "source": [
    "columns = ['sex', 'length', 'diameter', 'height', 'whole_weight', 'shucked_weight', 'viscera_weight', 'shell_weight', 'rings']\n",
    "quantitative_columns = ['length', 'diameter', 'height', 'whole_weight', 'shucked_weight', 'viscera_weight', 'shell_weight', 'rings']\n",
    "df = pd.read_csv('data.csv', header=None, names=columns)\n",
    "df['sex'] = df['sex'].map({'F': 'Female', 'M': 'Male', 'I': 'Infant'})\n",
    "\n"
   ],
   "id": "dc09e297ea430256"
  },
  {
   "metadata": {},
   "cell_type": "code",
   "outputs": [],
   "execution_count": null,
   "source": [
    "counts = df['sex'].value_counts()\n",
    "percent = df['sex'].value_counts(normalize=True) * 100\n",
    "table = pd.DataFrame({'count': counts, '%': percent.round(2)})\n",
    "table.index.name=None\n",
    "table"
   ],
   "id": "4830e85e81d6207f"
  },
  {
   "metadata": {},
   "cell_type": "code",
   "outputs": [],
   "execution_count": null,
   "source": [
    "numeric_cols = df[quantitative_columns]\n",
    "summary_table = numeric_cols.describe().T\n",
    "summary_table = summary_table.drop(columns=['count'])\n",
    "summary_table"
   ],
   "id": "1e9225880fa19a72"
  },
  {
   "metadata": {},
   "cell_type": "code",
   "outputs": [],
   "execution_count": null,
   "source": [
    "sns.set_style('whitegrid')\n",
    "plt.figure(figsize=(8, 6))\n",
    "sns.countplot(data=df, x='sex', color='skyblue')\n",
    "plt.title('Liczba wystąpień dla każdej kategorii płci')\n",
    "plt.xlabel('Płeć')\n",
    "plt.ylabel('Liczba wystąpień')\n",
    "plt.show()"
   ],
   "id": "f10e58e398523af"
  },
  {
   "metadata": {},
   "cell_type": "code",
   "outputs": [],
   "execution_count": null,
   "source": [
    "fig, axes = plt.subplots(nrows=4, ncols=2, figsize=(12, 16))\n",
    "for ax, col in zip(axes.flatten(), quantitative_columns):\n",
    "    sns.histplot(data=df, x=col, bins=20, ax=ax, color='red')\n",
    "    ax.set_title(col)\n",
    "plt.tight_layout()\n",
    "plt.show()"
   ],
   "id": "203759c674cd4e27"
  },
  {
   "metadata": {},
   "cell_type": "code",
   "outputs": [],
   "execution_count": null,
   "source": [
    "pairs = list(combinations(quantitative_columns, 2))\n",
    "fig, axes = plt.subplots(nrows=14, ncols=2, figsize=(16, 56))\n",
    "for ax, (x_col, y_col) in zip(axes.flatten(), pairs):\n",
    "    sns.scatterplot(data=df, x=x_col, y=y_col, ax=ax, s=10)\n",
    "    ax.set_xlabel(x_col)\n",
    "    ax.set_ylabel(y_col)\n",
    "    ax.set_title(f'{x_col} vs {y_col}')\n",
    "plt.tight_layout()\n",
    "plt.show()"
   ],
   "id": "22ffab1f219ce1b4"
  },
  {
   "metadata": {},
   "cell_type": "code",
   "outputs": [],
   "execution_count": null,
   "source": [
    "correlation_matrix = df[quantitative_columns].corr()\n",
    "correlation_matrix"
   ],
   "id": "2bdd839c87685650"
  },
  {
   "metadata": {},
   "cell_type": "code",
   "outputs": [],
   "execution_count": null,
   "source": [
    "plt.figure(figsize=(10, 8))\n",
    "sns.heatmap(correlation_matrix, annot=True, cmap='coolwarm', linewidths=0.5)\n",
    "plt.title('Heatmapa macierzy korelacji zmiennych ilościowych')\n",
    "plt.show()"
   ],
   "id": "7972e30b87ae085"
  },
  {
   "metadata": {},
   "cell_type": "code",
   "outputs": [],
   "execution_count": null,
   "source": [
    "sns.lmplot(x='length', y='diameter', data=df, height=6, aspect=1.5, scatter_kws={'alpha':0.5},line_kws={'color': 'red'})\n",
    "plt.title('Regresja liniowa: Length vs Whole Weight')\n",
    "plt.show()"
   ],
   "id": "b7f5520eb8cf9b58"
  },
  {
   "cell_type": "code",
   "execution_count": null,
   "id": "8575535d-f796-4ec9-bc8a-294134cc6cd7",
   "metadata": {},
   "outputs": [],
   "source": []
  },
  {
   "cell_type": "code",
   "execution_count": null,
   "id": "4bef13bf-262e-411d-8e28-d90092161bc9",
   "metadata": {},
   "outputs": [],
   "source": []
  },
  {
   "cell_type": "code",
   "execution_count": null,
   "id": "9794131e-3112-4b7e-a1b3-a0505558009d",
   "metadata": {},
   "outputs": [],
   "source": []
  }
 ],
 "metadata": {
  "kernelspec": {
   "display_name": "Python 3 (ipykernel)",
   "language": "python",
   "name": "python3"
  },
  "language_info": {
   "codemirror_mode": {
    "name": "ipython",
    "version": 3
   },
   "file_extension": ".py",
   "mimetype": "text/x-python",
   "name": "python",
   "nbconvert_exporter": "python",
   "pygments_lexer": "ipython3",
   "version": "3.12.3"
  }
 },
 "nbformat": 4,
 "nbformat_minor": 5
}
